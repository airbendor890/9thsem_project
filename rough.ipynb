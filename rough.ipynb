{
 "cells": [
  {
   "cell_type": "code",
   "execution_count": null,
   "metadata": {},
   "outputs": [],
   "source": [
    "def Theta_Phi_2nd_Diff(beta,gamma,Theta_s,Phi_s):\n",
    "    sum=0\n",
    "    for n1 in [-1,0,1]:\n",
    "        for n2 in [-1,0,1]:\n",
    "            for n3 in [-1,0,1]:\n",
    "                for alpha in range(1,5):\n",
    "                    A1=-(J_curly(alpha,-n1,-n2,-n3,gamma,1,1)+J_curly(gamma,n1,n2,n3,alpha,1,1))*np.cos(Phi_s[alpha])*np.sin(Phi_s[gamma])*(np.cos(Theta_s[alpha])*np.sin(Theta_s[gamma])*KD(n1,0)*KD(n2,0)*KD(n3,0)*KD(alpha,beta)+np.sin(Theta_s[alpha])*np.cos(Theta_s[gamma])*KD(gamma,beta)) \n",
    "                    A2=(J_curly(alpha,-n1,-n2,-n3,gamma,2,2)+J_curly(gamma,n1,n2,n3,alpha,2,2))*np.sin(Phi_s[alpha])*np.cos(Phi_s[gamma])*(np.cos(Theta_s[alpha])*np.sin(Theta_s[gamma])*KD(n1,0)*KD(n2,0)*KD(n3,0)*KD(alpha,beta)+np.sin(Theta_s[alpha])*np.cos(Theta_s[gamma])*KD(gamma,beta))\n",
    "                    A3=(J_curly(alpha,-n1,-n2,-n3,gamma,1,2)*np.cos(Phi_s[alpha])*np.cos(Phi_s[gamma])-J_curly(gamma,n1,n2,n3,alpha,1,2)*np.sin(Phi_s[gamma])*np.sin(Phi_s[alpha]))*(np.cos(Theta_s[alpha])*np.sin(Theta_s[gamma])*KD(n1,0)*KD(n2,0)*KD(n3,0)*KD(alpha,beta)+np.sin(Theta_s[alpha])*np.cos(Theta_s[gamma])*KD(gamma,beta))\n",
    "                    A4=(-J_curly(alpha,-n1,-n2,-n3,gamma,2,1)*np.sin(Phi_s[alpha])*np.sin(Phi_s[gamma])+J_curly(gamma,n1,n2,n3,alpha,2,1)*np.cos(Phi_s[gamma])*np.cos(Phi_s[alpha]))*(np.cos(Theta_s[alpha])*np.sin(Theta_s[gamma])*KD(n1,0)*KD(n2,0)*KD(n3,0)*KD(alpha,beta)+np.sin(Theta_s[alpha])*np.cos(Theta_s[gamma])*KD(gamma,beta))\n",
    "                    A5=(J_curly(alpha,-n1,-n2,-n3,gamma,3,2)+J_curly(gamma,n1,n2,n3,alpha,2,3))*np.cos(Phi_s[gamma])*(-np.sin(Theta_s[alpha])*np.sin(Theta_s[gamma])*KD(n1,0)*KD(n2,0)*KD(n3,0)*KD(alpha,beta)+np.cos(Theta_s[alpha])*np.cos(Theta_s[gamma])*KD(gamma,beta))\n",
    "                    A5=-(J_curly(alpha,-n1,-n2,-n3,gamma,3,1)+J_curly(gamma,n1,n2,n3,alpha,1,3))*np.sin(Phi_s[gamma])*(-np.sin(Theta_s[alpha])*np.sin(Theta_s[gamma])*KD(n1,0)*KD(n2,0)*KD(n3,0)*KD(alpha,beta)+np.cos(Theta_s[alpha])*np.cos(Theta_s[gamma])*KD(gamma,beta))\n",
    "                    \n",
    "                    \n",
    "def Phi_Phi_2nd_Diff(beta,gamma,Theta_s,Phi_s):\n",
    "    sum=0\n",
    "    for n1 in [-1,0,1]:\n",
    "        for n2 in [-1,0,1]:\n",
    "            for n3 in [-1,0,1]:\n",
    "                for alpha in range(1,5):\n",
    "                    A1=(J_curly(alpha,-n1,-n2,-n3,gamma,3,2)+J_curly(gamma,n1,n2,n3,,alpha,2,3))*np.cos(Theta_s[alpha])*np.sin(Theta_s[gamma])*(-np.sin(Phi_gamma)*KD(beta,gamma))\n",
    "                    A2=(J_curly(alpha,-n1,-n2,-n3,gamma,3,1)+J_curly(gamma,n1,n2,n3,,alpha,1,3))*np.cos(Theta_s[alpha])*np.sin(Theta_s[gamma])*(np.cos(Phi_gamma)*KD(beta,gamma))\n",
    "                    A3=-(J_curly(alpha,-n1,-n2,-n3,gamma,1,1)+J_curly(gamma,n1,n2,n3,alpha,1,1))*np.sin(Theta_s[alpha])*np.sin(Theta_s[gamma])*(-np.sin(Phi_s[alpha])*np.sin(Phi_s[gamma])*KD(n1,0)*KD(n2,0)*KD(n3,0)*KD(alpha,beta)+np.cos(Phi_s[alpha])*np.cos(Phi_s[gamma])*KD(gamma,beta)) \n",
    "                    A4=(J_curly(alpha,-n1,-n2,-n3,gamma,2,2)+J_curly(gamma,n1,n2,n3,alpha,2,2))*np.sin(Theta_s[alpha])*np.sin(Theta_s[gamma])*(np.cos(Phi_s[alpha])*np.cos(Phi_s[gamma])*KD(n1,0)*KD(n2,0)*KD(n3,0)*KD(alpha,beta)-np.sin(Phi_s[alpha])*np.sin(Phi_s[gamma])*KD(gamma,beta)) \n",
    "                    A5=(J_curly(alpha,-n1,-n2,-n3,gamma,1,2))*np.sin(Theta_s[alpha])*np.sin(Theta_s[gamma])*(-np.sin(Phi_s[alpha])*np.cos(Phi_s[gamma])*KD(n1,0)*KD(n2,0)*KD(n3,0)*KD(alpha,beta)-np.cos(Phi_s[alpha])*np.sin(Phi_s[gamma])*KD(gamma,beta)) \n",
    "                    A6=-(J_curly(gamma,n1,n2,n3,alpha,1,2))*np.sin(Theta_s[alpha])*np.sin(Theta_s[gamma])*(np.cos(Phi_s[alpha])*np.sin(Phi_s[gamma])*KD(n1,0)*KD(n2,0)*KD(n3,0)*KD(alpha,beta)+np.sin(Phi_s[alpha])*np.cos(Phi_s[gamma])*KD(gamma,beta)) \n",
    "                    A7=-(J_curly(alpha,-n1,-n2,-n3,gamma,2,1))*np.sin(Theta_s[alpha])*np.sin(Theta_s[gamma])*(np.cos(Phi_s[alpha])*np.sin(Phi_s[gamma])*KD(n1,0)*KD(n2,0)*KD(n3,0)*KD(alpha,beta)+np.sin(Phi_s[alpha])*np.cos(Phi_s[gamma])*KD(gamma,beta)) \n",
    "                    A8=(J_curly(gamma,n1,n2,n3,alpha,2,1))*np.sin(Theta_s[alpha])*np.sin(Theta_s[gamma])*(-np.sin(Phi_s[alpha])*np.cos(Phi_s[gamma])*KD(n1,0)*KD(n2,0)*KD(n3,0)*KD(alpha,beta)-np.cos(Phi_s[alpha])*np.sin(Phi_s[gamma])*KD(gamma,beta)) \n",
    "                    \n",
    "                    "
   ]
  }
 ],
 "metadata": {
  "kernelspec": {
   "display_name": "Python 3 (ipykernel)",
   "language": "python",
   "name": "python3"
  },
  "language_info": {
   "codemirror_mode": {
    "name": "ipython",
    "version": 3
   },
   "file_extension": ".py",
   "mimetype": "text/x-python",
   "name": "python",
   "nbconvert_exporter": "python",
   "pygments_lexer": "ipython3",
   "version": "3.9.10+"
  }
 },
 "nbformat": 4,
 "nbformat_minor": 2
}
